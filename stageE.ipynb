{
 "cells": [
  {
   "cell_type": "code",
   "execution_count": 1,
   "metadata": {},
   "outputs": [],
   "source": [
    "import pandas as pd\n",
    "import numpy as np\n",
    "import seaborn as sns\n",
    "import matplotlib.pyplot as plt\n",
    "from sklearn.model_selection import train_test_split\n",
    "from sklearn.preprocessing import OrdinalEncoder\n",
    "from sklearn.metrics import mean_squared_error\n",
    "from sklearn.ensemble import RandomForestClassifier\n",
    "from xgboost import XGBClassifier"
   ]
  },
  {
   "cell_type": "code",
   "execution_count": 2,
   "metadata": {},
   "outputs": [],
   "source": [
    "df2019 = pd.read_excel(\"Financial_Report2019.xlsx\", sheet_name=\"CONSOLIDATED STATEMENTS OF INCO\", skiprows=1)\n",
    "df2016 = pd.read_excel(\"Financial_Report2016.xlsx\", sheet_name=\"CONSOLIDATED STATEMENTS OF INCO\", skiprows=1)\n",
    "df2013 = pd.read_excel(\"Financial_Report2013.xlsx\", sheet_name=\"CONSOLIDATED_STATEMENTS_OF_INC\", skiprows=1)"
   ]
  },
  {
   "cell_type": "code",
   "execution_count": 3,
   "metadata": {},
   "outputs": [
    {
     "data": {
      "text/plain": [
       "(20, 4)"
      ]
     },
     "execution_count": 3,
     "metadata": {},
     "output_type": "execute_result"
    }
   ],
   "source": [
    "df2019.shape"
   ]
  },
  {
   "cell_type": "code",
   "execution_count": 4,
   "metadata": {},
   "outputs": [
    {
     "data": {
      "text/plain": [
       "(22, 5)"
      ]
     },
     "execution_count": 4,
     "metadata": {},
     "output_type": "execute_result"
    }
   ],
   "source": [
    "df2016.shape"
   ]
  },
  {
   "cell_type": "code",
   "execution_count": 5,
   "metadata": {},
   "outputs": [
    {
     "data": {
      "text/plain": [
       "(22, 7)"
      ]
     },
     "execution_count": 5,
     "metadata": {},
     "output_type": "execute_result"
    }
   ],
   "source": [
    "df2013.shape"
   ]
  },
  {
   "cell_type": "code",
   "execution_count": 6,
   "metadata": {},
   "outputs": [
    {
     "data": {
      "text/html": [
       "<div>\n",
       "<style scoped>\n",
       "    .dataframe tbody tr th:only-of-type {\n",
       "        vertical-align: middle;\n",
       "    }\n",
       "\n",
       "    .dataframe tbody tr th {\n",
       "        vertical-align: top;\n",
       "    }\n",
       "\n",
       "    .dataframe thead th {\n",
       "        text-align: right;\n",
       "    }\n",
       "</style>\n",
       "<table border=\"1\" class=\"dataframe\">\n",
       "  <thead>\n",
       "    <tr style=\"text-align: right;\">\n",
       "      <th></th>\n",
       "      <th>Unnamed: 0</th>\n",
       "      <th>Dec. 31, 2019</th>\n",
       "      <th>Dec. 31, 2018</th>\n",
       "      <th>Dec. 31, 2017</th>\n",
       "    </tr>\n",
       "  </thead>\n",
       "  <tbody>\n",
       "    <tr>\n",
       "      <th>0</th>\n",
       "      <td>Revenues</td>\n",
       "      <td>37266.0</td>\n",
       "      <td>34300.0</td>\n",
       "      <td>36212.0</td>\n",
       "    </tr>\n",
       "    <tr>\n",
       "      <th>1</th>\n",
       "      <td>Cost of Goods and Services Sold</td>\n",
       "      <td>14619.0</td>\n",
       "      <td>13067.0</td>\n",
       "      <td>13721.0</td>\n",
       "    </tr>\n",
       "    <tr>\n",
       "      <th>2</th>\n",
       "      <td>GROSS PROFIT</td>\n",
       "      <td>22647.0</td>\n",
       "      <td>21233.0</td>\n",
       "      <td>22491.0</td>\n",
       "    </tr>\n",
       "    <tr>\n",
       "      <th>3</th>\n",
       "      <td>Selling, General and Administrative Expense</td>\n",
       "      <td>12103.0</td>\n",
       "      <td>11002.0</td>\n",
       "      <td>12834.0</td>\n",
       "    </tr>\n",
       "    <tr>\n",
       "      <th>4</th>\n",
       "      <td>Other Cost and Expense, Operating</td>\n",
       "      <td>458.0</td>\n",
       "      <td>1079.0</td>\n",
       "      <td>1902.0</td>\n",
       "    </tr>\n",
       "  </tbody>\n",
       "</table>\n",
       "</div>"
      ],
      "text/plain": [
       "                                    Unnamed: 0  Dec. 31, 2019  Dec. 31, 2018  \\\n",
       "0                                     Revenues        37266.0        34300.0   \n",
       "1              Cost of Goods and Services Sold        14619.0        13067.0   \n",
       "2                                 GROSS PROFIT        22647.0        21233.0   \n",
       "3  Selling, General and Administrative Expense        12103.0        11002.0   \n",
       "4            Other Cost and Expense, Operating          458.0         1079.0   \n",
       "\n",
       "   Dec. 31, 2017  \n",
       "0        36212.0  \n",
       "1        13721.0  \n",
       "2        22491.0  \n",
       "3        12834.0  \n",
       "4         1902.0  "
      ]
     },
     "execution_count": 6,
     "metadata": {},
     "output_type": "execute_result"
    }
   ],
   "source": [
    "df2019.head()"
   ]
  },
  {
   "cell_type": "code",
   "execution_count": 7,
   "metadata": {},
   "outputs": [],
   "source": [
    "df2019[[\"Dec. 31, 2016\", \"Dec. 31, 2015\", \"Dec. 31, 2014\"]] = df2016[[\"Dec. 31, 2016\", \"Dec. 31, 2015\", \"Dec. 31, 2014\"]]"
   ]
  },
  {
   "cell_type": "code",
   "execution_count": 8,
   "metadata": {},
   "outputs": [],
   "source": [
    "df2019[[\"Dec. 31, 2013\", \"Dec. 31, 2012\", \"Dec. 31, 2011\"]] = df2013[[\"Dec. 31, 2013\", \"Dec. 31, 2012\", \"Dec. 31, 2011\"]]"
   ]
  },
  {
   "cell_type": "code",
   "execution_count": 9,
   "metadata": {},
   "outputs": [
    {
     "data": {
      "text/html": [
       "<div>\n",
       "<style scoped>\n",
       "    .dataframe tbody tr th:only-of-type {\n",
       "        vertical-align: middle;\n",
       "    }\n",
       "\n",
       "    .dataframe tbody tr th {\n",
       "        vertical-align: top;\n",
       "    }\n",
       "\n",
       "    .dataframe thead th {\n",
       "        text-align: right;\n",
       "    }\n",
       "</style>\n",
       "<table border=\"1\" class=\"dataframe\">\n",
       "  <thead>\n",
       "    <tr style=\"text-align: right;\">\n",
       "      <th></th>\n",
       "      <th>Unnamed: 0</th>\n",
       "      <th>Unnamed: 1</th>\n",
       "      <th>Dec. 31, 2016</th>\n",
       "      <th>Dec. 31, 2015</th>\n",
       "      <th>Dec. 31, 2014</th>\n",
       "    </tr>\n",
       "  </thead>\n",
       "  <tbody>\n",
       "    <tr>\n",
       "      <th>0</th>\n",
       "      <td>NET OPERATING REVENUES</td>\n",
       "      <td>NaN</td>\n",
       "      <td>41863.0</td>\n",
       "      <td>44294.0</td>\n",
       "      <td>45998.0</td>\n",
       "    </tr>\n",
       "    <tr>\n",
       "      <th>1</th>\n",
       "      <td>Cost of goods sold</td>\n",
       "      <td>NaN</td>\n",
       "      <td>16465.0</td>\n",
       "      <td>17482.0</td>\n",
       "      <td>17889.0</td>\n",
       "    </tr>\n",
       "    <tr>\n",
       "      <th>2</th>\n",
       "      <td>GROSS PROFIT</td>\n",
       "      <td>NaN</td>\n",
       "      <td>25398.0</td>\n",
       "      <td>26812.0</td>\n",
       "      <td>28109.0</td>\n",
       "    </tr>\n",
       "    <tr>\n",
       "      <th>3</th>\n",
       "      <td>Selling, general and administrative expenses</td>\n",
       "      <td>NaN</td>\n",
       "      <td>15262.0</td>\n",
       "      <td>16427.0</td>\n",
       "      <td>17218.0</td>\n",
       "    </tr>\n",
       "    <tr>\n",
       "      <th>4</th>\n",
       "      <td>Other operating charges</td>\n",
       "      <td>NaN</td>\n",
       "      <td>1510.0</td>\n",
       "      <td>1657.0</td>\n",
       "      <td>1183.0</td>\n",
       "    </tr>\n",
       "  </tbody>\n",
       "</table>\n",
       "</div>"
      ],
      "text/plain": [
       "                                     Unnamed: 0 Unnamed: 1  Dec. 31, 2016  \\\n",
       "0                        NET OPERATING REVENUES        NaN        41863.0   \n",
       "1                            Cost of goods sold        NaN        16465.0   \n",
       "2                                  GROSS PROFIT        NaN        25398.0   \n",
       "3  Selling, general and administrative expenses        NaN        15262.0   \n",
       "4                       Other operating charges        NaN         1510.0   \n",
       "\n",
       "   Dec. 31, 2015  Dec. 31, 2014  \n",
       "0        44294.0        45998.0  \n",
       "1        17482.0        17889.0  \n",
       "2        26812.0        28109.0  \n",
       "3        16427.0        17218.0  \n",
       "4         1657.0         1183.0  "
      ]
     },
     "execution_count": 9,
     "metadata": {},
     "output_type": "execute_result"
    }
   ],
   "source": [
    "df2016.head()"
   ]
  },
  {
   "cell_type": "code",
   "execution_count": 10,
   "metadata": {},
   "outputs": [],
   "source": [
    "df2016.drop(columns=[\"Unnamed: 1\"], inplace=True)"
   ]
  },
  {
   "cell_type": "code",
   "execution_count": 11,
   "metadata": {},
   "outputs": [],
   "source": [
    "df2016.drop([20, 21], inplace=True)"
   ]
  },
  {
   "cell_type": "code",
   "execution_count": 12,
   "metadata": {},
   "outputs": [],
   "source": [
    "df2013.drop([20, 21], inplace=True)"
   ]
  },
  {
   "cell_type": "code",
   "execution_count": 13,
   "metadata": {},
   "outputs": [
    {
     "data": {
      "text/html": [
       "<div>\n",
       "<style scoped>\n",
       "    .dataframe tbody tr th:only-of-type {\n",
       "        vertical-align: middle;\n",
       "    }\n",
       "\n",
       "    .dataframe tbody tr th {\n",
       "        vertical-align: top;\n",
       "    }\n",
       "\n",
       "    .dataframe thead th {\n",
       "        text-align: right;\n",
       "    }\n",
       "</style>\n",
       "<table border=\"1\" class=\"dataframe\">\n",
       "  <thead>\n",
       "    <tr style=\"text-align: right;\">\n",
       "      <th></th>\n",
       "      <th>In Millions, except Per Share data, unless otherwise specified</th>\n",
       "      <th>Dec. 31, 2013</th>\n",
       "      <th>Unnamed: 2</th>\n",
       "      <th>Dec. 31, 2012</th>\n",
       "      <th>Unnamed: 4</th>\n",
       "      <th>Dec. 31, 2011</th>\n",
       "      <th>Unnamed: 6</th>\n",
       "    </tr>\n",
       "  </thead>\n",
       "  <tbody>\n",
       "    <tr>\n",
       "      <th>0</th>\n",
       "      <td>NET OPERATING REVENUES</td>\n",
       "      <td>46854</td>\n",
       "      <td>NaN</td>\n",
       "      <td>48017.0</td>\n",
       "      <td>NaN</td>\n",
       "      <td>46542.0</td>\n",
       "      <td>NaN</td>\n",
       "    </tr>\n",
       "    <tr>\n",
       "      <th>1</th>\n",
       "      <td>Cost of goods sold</td>\n",
       "      <td>18421</td>\n",
       "      <td>NaN</td>\n",
       "      <td>19053.0</td>\n",
       "      <td>NaN</td>\n",
       "      <td>18215.0</td>\n",
       "      <td>NaN</td>\n",
       "    </tr>\n",
       "    <tr>\n",
       "      <th>2</th>\n",
       "      <td>GROSS PROFIT</td>\n",
       "      <td>28433</td>\n",
       "      <td>NaN</td>\n",
       "      <td>28964.0</td>\n",
       "      <td>NaN</td>\n",
       "      <td>28327.0</td>\n",
       "      <td>NaN</td>\n",
       "    </tr>\n",
       "    <tr>\n",
       "      <th>3</th>\n",
       "      <td>Selling, general and administrative expenses</td>\n",
       "      <td>17310</td>\n",
       "      <td>NaN</td>\n",
       "      <td>17738.0</td>\n",
       "      <td>NaN</td>\n",
       "      <td>17422.0</td>\n",
       "      <td>NaN</td>\n",
       "    </tr>\n",
       "    <tr>\n",
       "      <th>4</th>\n",
       "      <td>Other operating charges</td>\n",
       "      <td>895</td>\n",
       "      <td>NaN</td>\n",
       "      <td>447.0</td>\n",
       "      <td>NaN</td>\n",
       "      <td>732.0</td>\n",
       "      <td>NaN</td>\n",
       "    </tr>\n",
       "  </tbody>\n",
       "</table>\n",
       "</div>"
      ],
      "text/plain": [
       "  In Millions, except Per Share data, unless otherwise specified  \\\n",
       "0                             NET OPERATING REVENUES               \n",
       "1                                 Cost of goods sold               \n",
       "2                                       GROSS PROFIT               \n",
       "3       Selling, general and administrative expenses               \n",
       "4                            Other operating charges               \n",
       "\n",
       "  Dec. 31, 2013 Unnamed: 2  Dec. 31, 2012 Unnamed: 4  Dec. 31, 2011 Unnamed: 6  \n",
       "0         46854        NaN        48017.0        NaN        46542.0        NaN  \n",
       "1         18421        NaN        19053.0        NaN        18215.0        NaN  \n",
       "2         28433        NaN        28964.0        NaN        28327.0        NaN  \n",
       "3         17310        NaN        17738.0        NaN        17422.0        NaN  \n",
       "4           895        NaN          447.0        NaN          732.0        NaN  "
      ]
     },
     "execution_count": 13,
     "metadata": {},
     "output_type": "execute_result"
    }
   ],
   "source": [
    "df2013.head()"
   ]
  },
  {
   "cell_type": "code",
   "execution_count": 14,
   "metadata": {},
   "outputs": [],
   "source": [
    "df2013.drop(columns=[\"Unnamed: 2\", \"Unnamed: 4\", \"Unnamed: 6\"], inplace=True)"
   ]
  }
 ],
 "metadata": {
  "kernelspec": {
   "display_name": "Python 3",
   "language": "python",
   "name": "python3"
  },
  "language_info": {
   "codemirror_mode": {
    "name": "ipython",
    "version": 3
   },
   "file_extension": ".py",
   "mimetype": "text/x-python",
   "name": "python",
   "nbconvert_exporter": "python",
   "pygments_lexer": "ipython3",
   "version": "3.7.6"
  }
 },
 "nbformat": 4,
 "nbformat_minor": 4
}
